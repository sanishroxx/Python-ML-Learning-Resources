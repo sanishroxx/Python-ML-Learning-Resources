{
 "cells": [
  {
   "cell_type": "code",
   "execution_count": 1,
   "id": "648c9b24",
   "metadata": {},
   "outputs": [
    {
     "name": "stdout",
     "output_type": "stream",
     "text": [
      "day1 python Basic\n"
     ]
    }
   ],
   "source": [
    "print(\"day1 python Basic\")"
   ]
  },
  {
   "cell_type": "code",
   "execution_count": 23,
   "id": "cfdce60d",
   "metadata": {},
   "outputs": [
    {
     "name": "stdout",
     "output_type": "stream",
     "text": [
      "i am sanish kumar\n",
      "lets learn python basics\n"
     ]
    }
   ],
   "source": [
    "print(\"i am sanish kumar\")\n",
    "print(\"lets learn python basics\")"
   ]
  },
  {
   "cell_type": "markdown",
   "id": "2b60b218",
   "metadata": {},
   "source": [
    "# Python Basics\n"
   ]
  },
  {
   "cell_type": "code",
   "execution_count": 9,
   "id": "6cf97fc4",
   "metadata": {},
   "outputs": [
    {
     "name": "stdout",
     "output_type": "stream",
     "text": [
      "Python is a popular high-level programming language\n",
      "that is used for a wide range of applications\n"
     ]
    }
   ],
   "source": [
    "\n",
    "print(\"Python is a popular high-level programming language\\nthat is used for a wide range of applications\")  \n",
    "#new line characater used\n",
    "\n"
   ]
  },
  {
   "cell_type": "code",
   "execution_count": 8,
   "id": "e5c3eecf",
   "metadata": {},
   "outputs": [
    {
     "name": "stdout",
     "output_type": "stream",
     "text": [
      "sanish\tsam\n"
     ]
    }
   ],
   "source": [
    "\n",
    "print(\"sanish\\tsam\")\n",
    "\n"
   ]
  },
  {
   "cell_type": "markdown",
   "id": "81af7666",
   "metadata": {},
   "source": [
    "# Variables\n",
    "Python variables have some naming rules and conventions, such as:\n",
    "\n",
    "A variable name must start with a letter or an underscore (_).\n",
    "\n",
    "A variable name can only contain letters, numbers, and underscores.\n",
    "\n",
    "Variable names are case-sensitive.\n",
    "\n",
    "It's recommended to use descriptive names that reflect the variable's purpose\n",
    ".\n",
    "In summary, variables in Python are used to store data and refer to objects in the program's memory. They are dynamically typed, meaning you don't need to declare their data type before using them"
   ]
  },
  {
   "cell_type": "markdown",
   "id": "5999ec35",
   "metadata": {},
   "source": [
    "# Variables: In Python, variables are used to store data. \n",
    "#You can assign values to variables using the equal sign (=). For example, x = 5.\n",
    "#In Python, variables are dynamically typed, which means that you don't need to declare a variable's data type before using it. \n",
    "#Instead, the variable's data type is inferred at runtime based on the value it's assigned.\n",
    "\n",
    "\n",
    "s=420\n",
    "print(s)"
   ]
  },
  {
   "cell_type": "code",
   "execution_count": 13,
   "id": "c7907efb",
   "metadata": {},
   "outputs": [
    {
     "name": "stdout",
     "output_type": "stream",
     "text": [
      "20.6\n"
     ]
    }
   ],
   "source": [
    "m=20.6\n",
    "print(m)"
   ]
  },
  {
   "cell_type": "code",
   "execution_count": 14,
   "id": "10060e3e",
   "metadata": {},
   "outputs": [
    {
     "name": "stdout",
     "output_type": "stream",
     "text": [
      "Motihari\n"
     ]
    }
   ],
   "source": [
    "c=\"Motihari\"\n",
    "print(c)"
   ]
  },
  {
   "cell_type": "code",
   "execution_count": 15,
   "id": "ccbe4b20",
   "metadata": {},
   "outputs": [
    {
     "name": "stdout",
     "output_type": "stream",
     "text": [
      "12\n",
      "<class 'int'>\n"
     ]
    }
   ],
   "source": [
    "x=12\n",
    "print(x)\n",
    "print(type(x))"
   ]
  },
  {
   "cell_type": "code",
   "execution_count": 16,
   "id": "b9422482",
   "metadata": {},
   "outputs": [
    {
     "name": "stdout",
     "output_type": "stream",
     "text": [
      "30.09\n",
      "<class 'float'>\n"
     ]
    }
   ],
   "source": [
    "y=30.09\n",
    "print(y)\n",
    "print(type(y))"
   ]
  },
  {
   "cell_type": "code",
   "execution_count": 17,
   "id": "12097ba0",
   "metadata": {},
   "outputs": [
    {
     "name": "stdout",
     "output_type": "stream",
     "text": [
      "<class 'str'>\n"
     ]
    }
   ],
   "source": [
    "z=\"sanish\"\n",
    "print(type(z))"
   ]
  },
  {
   "cell_type": "code",
   "execution_count": 18,
   "id": "094089d3",
   "metadata": {},
   "outputs": [
    {
     "name": "stdout",
     "output_type": "stream",
     "text": [
      "<class 'str'>\n"
     ]
    }
   ],
   "source": [
    "a='P'\n",
    "print(type(a))"
   ]
  },
  {
   "cell_type": "code",
   "execution_count": 21,
   "id": "071c1ecd",
   "metadata": {},
   "outputs": [
    {
     "name": "stdout",
     "output_type": "stream",
     "text": [
      "True\n",
      "<class 'bool'>\n"
     ]
    }
   ],
   "source": [
    "sam=True\n",
    "print(sam)\n",
    "print(type(sam))"
   ]
  },
  {
   "cell_type": "code",
   "execution_count": 22,
   "id": "53f0152d",
   "metadata": {},
   "outputs": [
    {
     "name": "stdout",
     "output_type": "stream",
     "text": [
      "10\n"
     ]
    }
   ],
   "source": [
    "q=7\n",
    "q=10\n",
    "print(q)"
   ]
  },
  {
   "cell_type": "markdown",
   "id": "14cd43e3",
   "metadata": {},
   "source": [
    "# Using Python as a Calculator"
   ]
  },
  {
   "cell_type": "code",
   "execution_count": 24,
   "id": "5f438cde",
   "metadata": {},
   "outputs": [
    {
     "data": {
      "text/plain": [
       "39"
      ]
     },
     "execution_count": 24,
     "metadata": {},
     "output_type": "execute_result"
    }
   ],
   "source": [
    "10+29"
   ]
  },
  {
   "cell_type": "code",
   "execution_count": 25,
   "id": "40484bca",
   "metadata": {},
   "outputs": [
    {
     "data": {
      "text/plain": [
       "20.0"
      ]
     },
     "execution_count": 25,
     "metadata": {},
     "output_type": "execute_result"
    }
   ],
   "source": [
    "10+20/2"
   ]
  },
  {
   "cell_type": "code",
   "execution_count": 26,
   "id": "a9b84fca",
   "metadata": {},
   "outputs": [
    {
     "data": {
      "text/plain": [
       "50"
      ]
     },
     "execution_count": 26,
     "metadata": {},
     "output_type": "execute_result"
    }
   ],
   "source": [
    "20+(10*3)"
   ]
  },
  {
   "cell_type": "code",
   "execution_count": 29,
   "id": "1187941d",
   "metadata": {},
   "outputs": [
    {
     "data": {
      "text/plain": [
       "1.4"
      ]
     },
     "execution_count": 29,
     "metadata": {},
     "output_type": "execute_result"
    }
   ],
   "source": [
    "7/5    # division always returns a floating point number"
   ]
  },
  {
   "cell_type": "code",
   "execution_count": 30,
   "id": "4639df65",
   "metadata": {},
   "outputs": [
    {
     "data": {
      "text/plain": [
       "1"
      ]
     },
     "execution_count": 30,
     "metadata": {},
     "output_type": "execute_result"
    }
   ],
   "source": [
    "7//5   # floor division discards the fractional part"
   ]
  },
  {
   "cell_type": "code",
   "execution_count": 31,
   "id": "ef7ef4eb",
   "metadata": {},
   "outputs": [
    {
     "data": {
      "text/plain": [
       "2"
      ]
     },
     "execution_count": 31,
     "metadata": {},
     "output_type": "execute_result"
    }
   ],
   "source": [
    "17 % 3  # the % operator returns the remainder of the division"
   ]
  },
  {
   "cell_type": "code",
   "execution_count": 32,
   "id": "7b6c47cd",
   "metadata": {},
   "outputs": [
    {
     "data": {
      "text/plain": [
       "25"
      ]
     },
     "execution_count": 32,
     "metadata": {},
     "output_type": "execute_result"
    }
   ],
   "source": [
    "5 ** 2  # 5 squared"
   ]
  },
  {
   "cell_type": "code",
   "execution_count": 34,
   "id": "d30dc045",
   "metadata": {},
   "outputs": [
    {
     "data": {
      "text/plain": [
       "32768"
      ]
     },
     "execution_count": 34,
     "metadata": {},
     "output_type": "execute_result"
    }
   ],
   "source": [
    "8**5"
   ]
  },
  {
   "cell_type": "code",
   "execution_count": null,
   "id": "42e43bff",
   "metadata": {},
   "outputs": [],
   "source": []
  }
 ],
 "metadata": {
  "kernelspec": {
   "display_name": "Python 3 (ipykernel)",
   "language": "python",
   "name": "python3"
  },
  "language_info": {
   "codemirror_mode": {
    "name": "ipython",
    "version": 3
   },
   "file_extension": ".py",
   "mimetype": "text/x-python",
   "name": "python",
   "nbconvert_exporter": "python",
   "pygments_lexer": "ipython3",
   "version": "3.9.12"
  }
 },
 "nbformat": 4,
 "nbformat_minor": 5
}

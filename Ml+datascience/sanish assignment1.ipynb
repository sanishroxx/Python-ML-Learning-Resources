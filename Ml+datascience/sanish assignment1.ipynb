{
 "cells": [
  {
   "cell_type": "raw",
   "id": "94067b34",
   "metadata": {},
   "source": [
    " #sanish"
   ]
  },
  {
   "cell_type": "code",
   "execution_count": null,
   "id": "3a37997a",
   "metadata": {},
   "outputs": [
    {
     "name": "stdout",
     "output_type": "stream",
     "text": [
      "enter number:\n"
     ]
    }
   ],
   "source": [
    "#Q1\n",
    "print(\"enter number:\")\n",
    "num=eval(input())\n",
    "sum=0;\n",
    "while num>0:    #keep until -ve number is entered\n",
    "    sum=sum+num\n",
    "    num=eval(input())\n",
    "    \n",
    "print(\"sum=\", sum)"
   ]
  },
  {
   "cell_type": "raw",
   "id": "faf12671",
   "metadata": {},
   "source": [
    "   "
   ]
  },
  {
   "cell_type": "code",
   "execution_count": null,
   "id": "7e9d1733",
   "metadata": {},
   "outputs": [],
   "source": [
    "#Q2\n",
    "room1Temp_c = [23, 26, 22, 25, 21, 24, 27]\n",
    "room2Temps_F = []\n",
    "\n",
    "for temp in room1Temp_c:\n",
    "  temp_F = (temp * 9/5) + 32\n",
    "  room2Temps_F.append(temp_F)\n",
    "    \n",
    "print(room2Temps_F)\n"
   ]
  },
  {
   "cell_type": "code",
   "execution_count": null,
   "id": "d46d9456",
   "metadata": {},
   "outputs": [],
   "source": [
    "#Q3\n",
    "\n",
    "elements = [1, 2, 3, 4, 5]\n",
    "sum = 0\n",
    "for element in elements:\n",
    "  sum=sum+element\n",
    "average = sum / len(elements)\n",
    "print(\"Average:\", average)\n"
   ]
  },
  {
   "cell_type": "code",
   "execution_count": null,
   "id": "9a836208",
   "metadata": {},
   "outputs": [],
   "source": [
    "#Q4\n",
    "num = eval(input(\"Enter a number: \"))\n",
    "sum = 0\n",
    "while num > 0:\n",
    "  \n",
    "  sum =sum+(num % 10)        # add the last digit of the number to the sum\n",
    "  num = num // 10             # remove the last digit of the number\n",
    "print(\"Sum of digits:\", sum)\n"
   ]
  },
  {
   "cell_type": "code",
   "execution_count": null,
   "id": "15350058",
   "metadata": {},
   "outputs": [],
   "source": [
    "#Q5\n",
    "for i in range(1, 50):\n",
    "  if (i % 2 != 0 and i % 3 != 0):\n",
    "    print(i)\n"
   ]
  },
  {
   "cell_type": "code",
   "execution_count": null,
   "id": "09805173",
   "metadata": {},
   "outputs": [],
   "source": [
    "\n",
    "has_power = input(\"Does the computer have power (y/n)? \")\n",
    "\n",
    "if has_power == \"y\":\n",
    "\n",
    "    print(\"Seek other help .\")\n",
    "  else:\n",
    "    has_plugged=input(\"Is plugged in(y/n)?.\")\n",
    "\n",
    "\n"
   ]
  },
  {
   "cell_type": "code",
   "execution_count": null,
   "id": "4ece80c2",
   "metadata": {},
   "outputs": [],
   "source": []
  }
 ],
 "metadata": {
  "kernelspec": {
   "display_name": "Python 3 (ipykernel)",
   "language": "python",
   "name": "python3"
  },
  "language_info": {
   "codemirror_mode": {
    "name": "ipython",
    "version": 3
   },
   "file_extension": ".py",
   "mimetype": "text/x-python",
   "name": "python",
   "nbconvert_exporter": "python",
   "pygments_lexer": "ipython3",
   "version": "3.9.12"
  }
 },
 "nbformat": 4,
 "nbformat_minor": 5
}

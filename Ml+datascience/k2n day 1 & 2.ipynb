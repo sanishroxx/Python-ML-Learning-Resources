{
 "cells": [
  {
   "cell_type": "code",
   "execution_count": 1,
   "id": "4f4124e7",
   "metadata": {},
   "outputs": [],
   "source": [
    "#Day-1\n",
    "\n",
    "y=76.44"
   ]
  },
  {
   "cell_type": "code",
   "execution_count": null,
   "id": "31a1fb19",
   "metadata": {},
   "outputs": [],
   "source": [
    "y"
   ]
  },
  {
   "cell_type": "code",
   "execution_count": null,
   "id": "52f3a442",
   "metadata": {},
   "outputs": [],
   "source": [
    "1.79e308"
   ]
  },
  {
   "cell_type": "code",
   "execution_count": 1,
   "id": "16d05faf",
   "metadata": {},
   "outputs": [
    {
     "name": "stdout",
     "output_type": "stream",
     "text": [
      "enter a 1stnumber=8\n",
      "enter a 2ndnumber=9\n",
      "8 + 9 = 17\n"
     ]
    }
   ],
   "source": [
    "x=int(input(\"enter a 1stnumber=\"))\n",
    "\n",
    "y=int(input(\"enter a 2ndnumber=\"))\n",
    "\n",
    "print(x,\"+\",y,\"=\",x+y)"
   ]
  },
  {
   "cell_type": "code",
   "execution_count": null,
   "id": "5cb2db2a",
   "metadata": {},
   "outputs": [],
   "source": []
  },
  {
   "cell_type": "code",
   "execution_count": 2,
   "id": "28aac822",
   "metadata": {},
   "outputs": [],
   "source": [
    "#Day-2\n"
   ]
  },
  {
   "cell_type": "code",
   "execution_count": 3,
   "id": "27f69e11",
   "metadata": {},
   "outputs": [
    {
     "name": "stdout",
     "output_type": "stream",
     "text": [
      "Empty Dictionary: \n",
      "{}\n"
     ]
    }
   ],
   "source": [
    "# Creating an empty Dictionary \n",
    "Dict = {} \n",
    "print(\"Empty Dictionary: \") \n",
    "print(Dict) \n",
    " "
   ]
  },
  {
   "cell_type": "code",
   "execution_count": 4,
   "id": "166efb20",
   "metadata": {},
   "outputs": [
    {
     "name": "stdout",
     "output_type": "stream",
     "text": [
      "\n",
      "Dictionary with the use of Integer Keys: \n",
      "{1: 'We', 2: 'are', 3: 'Indian'}\n"
     ]
    }
   ],
   "source": [
    "Dict = {1: 'We', 2: 'are', 3: 'Indian'} \n",
    "print(\"\\nDictionary with the use of Integer Keys: \") \n",
    "print(Dict)"
   ]
  },
  {
   "cell_type": "code",
   "execution_count": 5,
   "id": "8bbd3ec5",
   "metadata": {},
   "outputs": [
    {
     "name": "stdout",
     "output_type": "stream",
     "text": [
      "\n",
      "List with the use of Mixed Values: \n",
      "[1, 2, 'India', 4, 'is', 6, 'my', 9, 'Country']\n"
     ]
    }
   ],
   "source": [
    "List = [1, 2, 'India', 4, 'is', 6, 'my',9,'Country'] \n",
    "print(\"\\nList with the use of Mixed Values: \") \n",
    "print(List)"
   ]
  },
  {
   "cell_type": "code",
   "execution_count": 6,
   "id": "3dff30cf",
   "metadata": {},
   "outputs": [
    {
     "name": "stdout",
     "output_type": "stream",
     "text": [
      "('python', '123')\n"
     ]
    }
   ],
   "source": [
    "tup = 'python', '123'\n",
    "print(tup)"
   ]
  },
  {
   "cell_type": "code",
   "execution_count": 7,
   "id": "482cb53d",
   "metadata": {},
   "outputs": [
    {
     "name": "stdout",
     "output_type": "stream",
     "text": [
      "('python', 'abc')\n"
     ]
    }
   ],
   "source": [
    "tup = ('python', 'abc') \n",
    "print(tup)"
   ]
  },
  {
   "cell_type": "code",
   "execution_count": 8,
   "id": "a0f0baef",
   "metadata": {},
   "outputs": [
    {
     "name": "stdout",
     "output_type": "stream",
     "text": [
      "((0, 1, 2, 3), ('Book', 'Fair'))\n"
     ]
    }
   ],
   "source": [
    "tuple1 = (0, 1, 2, 3) \n",
    "tuple2 = ('Book', 'Fair') \n",
    "tuple3 = (tuple1, tuple2)\n",
    " \n",
    "print(tuple3)"
   ]
  },
  {
   "cell_type": "code",
   "execution_count": 9,
   "id": "8e446dd0",
   "metadata": {},
   "outputs": [
    {
     "name": "stdout",
     "output_type": "stream",
     "text": [
      "Accessing a element from the list\n",
      "Students\n",
      "MOTIHARI\n"
     ]
    }
   ],
   "source": [
    "# the use of multiple values \n",
    "List = [\"Students\", \"of\", \"MOTIHARI\"]\n",
    " \n",
    "# accessing a element from the \n",
    "# list using index number \n",
    "print(\"Accessing a element from the list\") \n",
    "print(List[0]) \n",
    "print(List[2])"
   ]
  },
  {
   "cell_type": "code",
   "execution_count": 10,
   "id": "a5efa358",
   "metadata": {},
   "outputs": [
    {
     "name": "stdout",
     "output_type": "stream",
     "text": [
      "Acessing a element using key:\n",
      "Neeraj\n"
     ]
    }
   ],
   "source": [
    "# Creating a Dictionary \n",
    "Dict = {'college': 'Motihari', 'student': 'Neeraj', 'title': 'Kumar'}\n",
    " \n",
    "# accessing a element using key \n",
    "print(\"Acessing a element using key:\") \n",
    "print(Dict['student'])"
   ]
  },
  {
   "cell_type": "code",
   "execution_count": 11,
   "id": "cc6b4767",
   "metadata": {},
   "outputs": [
    {
     "name": "stdout",
     "output_type": "stream",
     "text": [
      "Acessing a element using key:\n",
      "Motihari\n",
      "Acessing a element using key:\n",
      "Hello\n",
      "Acessing a element using get:\n",
      "Ankit\n"
     ]
    }
   ],
   "source": [
    "# Creating a Dictionary \n",
    "Dict = {1: 'Hello', 'name': 'Motihari', 3: 'Ankit'}\n",
    " \n",
    "# accessing a element using key \n",
    "print(\"Acessing a element using key:\") \n",
    "print(Dict['name'])\n",
    " \n",
    "# accessing a element using key \n",
    "print(\"Acessing a element using key:\") \n",
    "print(Dict[1])\n",
    " \n",
    "# accessing a element using get() \n",
    "# method \n",
    "print(\"Acessing a element using get:\") \n",
    "print(Dict.get(3)) \n",
    " "
   ]
  },
  {
   "cell_type": "code",
   "execution_count": 13,
   "id": "7721a374",
   "metadata": {},
   "outputs": [
    {
     "name": "stdout",
     "output_type": "stream",
     "text": [
      "The size of dic is : 3\n"
     ]
    }
   ],
   "source": [
    "#Initializing dictionary \n",
    "dic = { 'Name' : 'Nandini', 'Age' : 19, 'ID' : 2541997 }\n",
    " \n",
    "# Initializing list \n",
    "li = [ 1, 3, 5, 6 ]\n",
    " \n",
    "# using len() to display dic size \n",
    "print (\"The size of dic is : \",end=\"\") \n",
    "print (len(dic))"
   ]
  },
  {
   "cell_type": "code",
   "execution_count": 14,
   "id": "cb0af320",
   "metadata": {},
   "outputs": [
    {
     "name": "stdout",
     "output_type": "stream",
     "text": [
      "Initial blank List: \n",
      "[]\n",
      "\n",
      "List after Addition of Three elements: \n",
      "[1, 2, 4]\n"
     ]
    }
   ],
   "source": [
    "# Creating a List \n",
    "List = [] \n",
    "print(\"Initial blank List: \") \n",
    "print(List)\n",
    " \n",
    "# Addition of Elements \n",
    "# in the List \n",
    "List.append(1) \n",
    "List.append(2) \n",
    "List.append(4) \n",
    "print(\"\\nList after Addition of Three elements: \") \n",
    "print(List)"
   ]
  },
  {
   "cell_type": "code",
   "execution_count": 15,
   "id": "e7e61439",
   "metadata": {},
   "outputs": [
    {
     "name": "stdout",
     "output_type": "stream",
     "text": [
      "enter two nos to divide = 6,8\n",
      "6 / 8 = 0.75\n",
      "Program finished!!!\n"
     ]
    }
   ],
   "source": [
    "dividend,divisor=eval(input('enter two nos to divide = '))\n",
    " \n",
    "if divisor !=0:\n",
    "    \n",
    "        Q=dividend/divisor\n",
    "        print(dividend,'/',divisor,'=',Q)\n",
    "else:\n",
    "        print('Enter correct nos for division')\n",
    "        \n",
    " \n",
    "print('Program finished!!!')"
   ]
  },
  {
   "cell_type": "code",
   "execution_count": 16,
   "id": "89a2e4be",
   "metadata": {},
   "outputs": [
    {
     "ename": "SyntaxError",
     "evalue": "invalid syntax (4238556742.py, line 7)",
     "output_type": "error",
     "traceback": [
      "\u001b[1;36m  Input \u001b[1;32mIn [16]\u001b[1;36m\u001b[0m\n\u001b[1;33m    if (a>0 and b>0  and c>0 )  and ((a+b)>c:\u001b[0m\n\u001b[1;37m                                            ^\u001b[0m\n\u001b[1;31mSyntaxError\u001b[0m\u001b[1;31m:\u001b[0m invalid syntax\n"
     ]
    }
   ],
   "source": []
  },
  {
   "cell_type": "code",
   "execution_count": null,
   "id": "2fc9fad0",
   "metadata": {},
   "outputs": [],
   "source": [
    "a=eval(input('enter a = '))\n",
    "b=eval(input('enter b = '))\n",
    "c=eval(input('enter c = '))\n",
    " \n",
    "import math\n",
    " \n",
    "if (a>0 and b>0  and c>0 )  and ((a+b)>c and (b+c)>a) and (c+a)>b:\n",
    "    \n",
    "    s=(a+b+c)\n",
    " \n",
    "    k=(s-a)*(s-b)*(s-c)\n",
    " \n",
    "    m=math.sqrt(k)\n",
    "    \n",
    "    print(\"Area of the Triangle  is :=%0.2f \"  %m)\n",
    " \n",
    "else:\n",
    " \n",
    "    print('Invalid --------entry')"
   ]
  },
  {
   "cell_type": "code",
   "execution_count": null,
   "id": "9ecd45bc",
   "metadata": {},
   "outputs": [],
   "source": [
    "for x in range(6):      # output 0 1 2 3 4 5\n",
    "        print(x)\n",
    "#--------------------------------------------------\n",
    " \n",
    " \n",
    "for x in range(2,6):\n",
    "        print(x)\n",
    "#--------------------------------------------------\n",
    " \n",
    " \n",
    "for x in range(2,30,3):\n",
    "        print(x)"
   ]
  },
  {
   "cell_type": "code",
   "execution_count": null,
   "id": "e3610f9a",
   "metadata": {},
   "outputs": [],
   "source": [
    "for x in range(2,30,3):\n",
    "    print(x)\n",
    "        "
   ]
  },
  {
   "cell_type": "code",
   "execution_count": null,
   "id": "07e3fa3d",
   "metadata": {},
   "outputs": [],
   "source": [
    "for x in range(6):\n",
    "    print(x)\n",
    "    \n",
    "        "
   ]
  },
  {
   "cell_type": "code",
   "execution_count": null,
   "id": "8458aa89",
   "metadata": {},
   "outputs": [],
   "source": [
    "sub=[1,2,3]\n",
    " \n",
    "topic=['a','b','c']\n",
    " \n",
    "for x in sub:\n",
    "    print('\\n')\n",
    "    for y in topic:\n",
    "                print('\\t',x,' ','\\t',y)"
   ]
  },
  {
   "cell_type": "code",
   "execution_count": 1,
   "id": "f77ae7d6",
   "metadata": {},
   "outputs": [],
   "source": [
    "#day3\n"
   ]
  },
  {
   "cell_type": "code",
   "execution_count": 2,
   "id": "04203f6a",
   "metadata": {},
   "outputs": [
    {
     "name": "stdout",
     "output_type": "stream",
     "text": [
      "even\n",
      "odd\n"
     ]
    }
   ],
   "source": [
    "def odd_even(x):\n",
    "  if x % 2 == 0:\n",
    "    return \"even\"\n",
    "  else:\n",
    "    return \"odd\"\n",
    "\n",
    "result = odd_even(10)\n",
    "print(result)  \n",
    "\n",
    "result = odd_even(11)\n",
    "print(result)\n"
   ]
  },
  {
   "cell_type": "code",
   "execution_count": 4,
   "id": "c3518a59",
   "metadata": {},
   "outputs": [
    {
     "name": "stdout",
     "output_type": "stream",
     "text": [
      "None\n"
     ]
    }
   ],
   "source": [
    "def divisible(y):\n",
    "    if y%2==0 and y%3==0:\n",
    "        return \"divisible\"\n",
    "result=divisible(8)\n",
    "print(result)\n"
   ]
  },
  {
   "cell_type": "code",
   "execution_count": null,
   "id": "e9678809",
   "metadata": {},
   "outputs": [],
   "source": [
    "\n"
   ]
  },
  {
   "cell_type": "code",
   "execution_count": null,
   "id": "cae6b197",
   "metadata": {},
   "outputs": [],
   "source": []
  },
  {
   "cell_type": "code",
   "execution_count": 10,
   "id": "3f7b9166",
   "metadata": {},
   "outputs": [
    {
     "name": "stdout",
     "output_type": "stream",
     "text": [
      "2\n",
      "1\n"
     ]
    }
   ],
   "source": [
    "def swap(x, y):\n",
    "  x, y = y, x\n",
    "  return x, y\n",
    "\n",
    "a = 1\n",
    "b = 2\n",
    "\n",
    "a, b = swap(a, b)\n",
    "\n",
    "print(a) \n",
    "print(b)\n"
   ]
  },
  {
   "cell_type": "code",
   "execution_count": null,
   "id": "d1d3edae",
   "metadata": {},
   "outputs": [],
   "source": []
  }
 ],
 "metadata": {
  "kernelspec": {
   "display_name": "Python 3 (ipykernel)",
   "language": "python",
   "name": "python3"
  },
  "language_info": {
   "codemirror_mode": {
    "name": "ipython",
    "version": 3
   },
   "file_extension": ".py",
   "mimetype": "text/x-python",
   "name": "python",
   "nbconvert_exporter": "python",
   "pygments_lexer": "ipython3",
   "version": "3.9.12"
  }
 },
 "nbformat": 4,
 "nbformat_minor": 5
}
